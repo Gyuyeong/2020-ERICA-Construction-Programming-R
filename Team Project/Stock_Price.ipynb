{
 "cells": [
  {
   "cell_type": "code",
   "execution_count": 301,
   "metadata": {},
   "outputs": [],
   "source": [
    "import pandas as pd\n",
    "import numpy as np\n",
    "import matplotlib.pyplot as plt\n",
    "import seaborn as sns\n",
    "import tensorflow as tf\n",
    "from tensorflow import keras\n",
    "from matplotlib import style\n",
    "%matplotlib inline\n",
    "import string\n",
    "from tensorflow.keras.preprocessing.text import Tokenizer\n",
    "from tensorflow.keras.preprocessing.sequence import pad_sequences\n",
    "from tensorflow.keras.models import Sequential\n",
    "from tensorflow.keras.layers import Dense\n",
    "from tensorflow.keras.layers import Embedding\n",
    "from tensorflow.keras.layers import LSTM, Bidirectional\n",
    "from tensorflow.keras.utils import to_categorical\n",
    "from tensorflow.keras.layers import BatchNormalization, Dropout\n",
    "from tensorflow.keras.optimizers import Adam\n",
    "from tensorflow.keras.callbacks import ReduceLROnPlateau, EarlyStopping"
   ]
  },
  {
   "cell_type": "code",
   "execution_count": 39,
   "metadata": {},
   "outputs": [],
   "source": [
    "style.use(\"ggplot\")"
   ]
  },
  {
   "cell_type": "code",
   "execution_count": 7,
   "metadata": {},
   "outputs": [],
   "source": [
    "hankyung_df = pd.read_csv(\"한경뉴스.csv\", encoding=\"ANSI\")"
   ]
  },
  {
   "cell_type": "code",
   "execution_count": 14,
   "metadata": {},
   "outputs": [],
   "source": [
    "sk_df = pd.read_csv(\"SK이노베이션.csv\", encoding=\"ANSI\")"
   ]
  },
  {
   "cell_type": "code",
   "execution_count": 8,
   "metadata": {},
   "outputs": [
    {
     "data": {
      "text/html": [
       "<div>\n",
       "<style scoped>\n",
       "    .dataframe tbody tr th:only-of-type {\n",
       "        vertical-align: middle;\n",
       "    }\n",
       "\n",
       "    .dataframe tbody tr th {\n",
       "        vertical-align: top;\n",
       "    }\n",
       "\n",
       "    .dataframe thead th {\n",
       "        text-align: right;\n",
       "    }\n",
       "</style>\n",
       "<table border=\"1\" class=\"dataframe\">\n",
       "  <thead>\n",
       "    <tr style=\"text-align: right;\">\n",
       "      <th></th>\n",
       "      <th>dates</th>\n",
       "      <th>titles</th>\n",
       "      <th>paragraphs</th>\n",
       "    </tr>\n",
       "  </thead>\n",
       "  <tbody>\n",
       "    <tr>\n",
       "      <th>0</th>\n",
       "      <td>2020-06-05</td>\n",
       "      <td>삼성 온라인채용 확산…SKT \"\"화상면접\"\" LG \"\"필기시험 추진\"\"</td>\n",
       "      <td>‘화상회의 솔루션’에 대해서도 깊은 관심을 드러내고 있다.  지난달 입사시험을 치르...</td>\n",
       "    </tr>\n",
       "    <tr>\n",
       "      <th>1</th>\n",
       "      <td>2020-06-04</td>\n",
       "      <td>SK, 아시아 최대 저가항공 에어아시아에 1000억 투자 검토</td>\n",
       "      <td>SK그룹이 아시아 최대 저비용항공사 에어아시아에 약 1000억원을 투자하는 방안을 ...</td>\n",
       "    </tr>\n",
       "    <tr>\n",
       "      <th>2</th>\n",
       "      <td>2020-06-04</td>\n",
       "      <td>마스크 수출 허용에 관련주 '들썩'...수익 제대로 높이려면</td>\n",
       "      <td>새로운 상품에 대해 자세히 알고 싶은 투자자는 고객상담센터  * 증권사 미수/신용 ...</td>\n",
       "    </tr>\n",
       "    <tr>\n",
       "      <th>3</th>\n",
       "      <td>2020-06-04</td>\n",
       "      <td>TV에서 보던 진짜 주식전문가를 '무료카톡방'에서 만날 수 있다.</td>\n",
       "      <td>주목된다.     최근 핫이슈 종목  삼성중공업, 셀트리온제약, 카카오, SK하이닉...</td>\n",
       "    </tr>\n",
       "    <tr>\n",
       "      <th>4</th>\n",
       "      <td>2020-06-04</td>\n",
       "      <td>\"\"전기차 배터리 대란 우려에…\"\" 글로벌 '합작 열풍' 분다</td>\n",
       "      <td>지리차와의 공장은 부지 선정 단계다.  업계에 따르면 현대차도 글로벌 추세에 발맞춰...</td>\n",
       "    </tr>\n",
       "  </tbody>\n",
       "</table>\n",
       "</div>"
      ],
      "text/plain": [
       "        dates                                   titles  \\\n",
       "0  2020-06-05  삼성 온라인채용 확산…SKT \"\"화상면접\"\" LG \"\"필기시험 추진\"\"   \n",
       "1  2020-06-04       SK, 아시아 최대 저가항공 에어아시아에 1000억 투자 검토   \n",
       "2  2020-06-04        마스크 수출 허용에 관련주 '들썩'...수익 제대로 높이려면   \n",
       "3  2020-06-04     TV에서 보던 진짜 주식전문가를 '무료카톡방'에서 만날 수 있다.   \n",
       "4  2020-06-04       \"\"전기차 배터리 대란 우려에…\"\" 글로벌 '합작 열풍' 분다   \n",
       "\n",
       "                                          paragraphs  \n",
       "0  ‘화상회의 솔루션’에 대해서도 깊은 관심을 드러내고 있다.  지난달 입사시험을 치르...  \n",
       "1  SK그룹이 아시아 최대 저비용항공사 에어아시아에 약 1000억원을 투자하는 방안을 ...  \n",
       "2  새로운 상품에 대해 자세히 알고 싶은 투자자는 고객상담센터  * 증권사 미수/신용 ...  \n",
       "3  주목된다.     최근 핫이슈 종목  삼성중공업, 셀트리온제약, 카카오, SK하이닉...  \n",
       "4  지리차와의 공장은 부지 선정 단계다.  업계에 따르면 현대차도 글로벌 추세에 발맞춰...  "
      ]
     },
     "execution_count": 8,
     "metadata": {},
     "output_type": "execute_result"
    }
   ],
   "source": [
    "hankyung_df.head()"
   ]
  },
  {
   "cell_type": "code",
   "execution_count": 21,
   "metadata": {},
   "outputs": [
    {
     "data": {
      "text/plain": [
       "2396    2020-06-01\n",
       "2397    2020-06-02\n",
       "2398    2020-06-03\n",
       "2399    2020-06-04\n",
       "2400    2020-06-05\n",
       "Name: dates, dtype: object"
      ]
     },
     "execution_count": 21,
     "metadata": {},
     "output_type": "execute_result"
    }
   ],
   "source": [
    "sk_df.dates.tail()"
   ]
  },
  {
   "cell_type": "code",
   "execution_count": 30,
   "metadata": {},
   "outputs": [
    {
     "data": {
      "text/plain": [
       "0    197500.0\n",
       "1    190500.0\n",
       "2    192500.0\n",
       "3    191500.0\n",
       "4    186500.0\n",
       "Name: end_price, dtype: float64"
      ]
     },
     "execution_count": 30,
     "metadata": {},
     "output_type": "execute_result"
    }
   ],
   "source": [
    "sk_df.end_price.head()"
   ]
  },
  {
   "cell_type": "code",
   "execution_count": 35,
   "metadata": {},
   "outputs": [],
   "source": [
    "sk_df[\"end_price_diff\"] = sk_df.iloc[:, 2:].diff().end_price"
   ]
  },
  {
   "cell_type": "code",
   "execution_count": 40,
   "metadata": {},
   "outputs": [
    {
     "data": {
      "text/plain": [
       "[<matplotlib.lines.Line2D at 0x1b809573ef0>]"
      ]
     },
     "execution_count": 40,
     "metadata": {},
     "output_type": "execute_result"
    },
    {
     "data": {
      "image/png": "[encoded data removed]",
      "text/plain": [
       "<Figure size 432x288 with 1 Axes>"
      ]
     },
     "metadata": {},
     "output_type": "display_data"
    }
   ],
   "source": [
    "plt.plot(sk_df.end_price)"
   ]
  },
  {
   "cell_type": "code",
   "execution_count": 41,
   "metadata": {},
   "outputs": [
    {
     "data": {
      "text/plain": [
       "<matplotlib.axes._subplots.AxesSubplot at 0x1b809211e10>"
      ]
     },
     "execution_count": 41,
     "metadata": {},
     "output_type": "execute_result"
    },
    {
     "data": {
      "image/png": "[encoded data removed]",
      "text/plain": [
       "<Figure size 432x288 with 1 Axes>"
      ]
     },
     "metadata": {},
     "output_type": "display_data"
    }
   ],
   "source": [
    "sk_df.end_price_diff.plot()"
   ]
  },
  {
   "cell_type": "code",
   "execution_count": 44,
   "metadata": {},
   "outputs": [],
   "source": [
    "sk_news = sk_df.loc[sk_df.titles.isna() == 0, [\"dates\", \"titles\"]]"
   ]
  },
  {
   "cell_type": "code",
   "execution_count": 45,
   "metadata": {},
   "outputs": [
    {
     "data": {
      "text/html": [
       "<div>\n",
       "<style scoped>\n",
       "    .dataframe tbody tr th:only-of-type {\n",
       "        vertical-align: middle;\n",
       "    }\n",
       "\n",
       "    .dataframe tbody tr th {\n",
       "        vertical-align: top;\n",
       "    }\n",
       "\n",
       "    .dataframe thead th {\n",
       "        text-align: right;\n",
       "    }\n",
       "</style>\n",
       "<table border=\"1\" class=\"dataframe\">\n",
       "  <thead>\n",
       "    <tr style=\"text-align: right;\">\n",
       "      <th></th>\n",
       "      <th>dates</th>\n",
       "      <th>titles</th>\n",
       "    </tr>\n",
       "  </thead>\n",
       "  <tbody>\n",
       "    <tr>\n",
       "      <th>79</th>\n",
       "      <td>2011-04-29</td>\n",
       "      <td>SK이노베이션, 분기사상 최초 수출 11조 돌파하며 매출 수직상승</td>\n",
       "    </tr>\n",
       "    <tr>\n",
       "      <th>98</th>\n",
       "      <td>2011-05-30</td>\n",
       "      <td>SK이노베이션, 배터리 서산 공장으로 ‘녹색이노베이션’ 나선다</td>\n",
       "    </tr>\n",
       "    <tr>\n",
       "      <th>102</th>\n",
       "      <td>2011-06-03</td>\n",
       "      <td>SK종합화학, 협력사와 함께하는 동반성장 간담회 열어</td>\n",
       "    </tr>\n",
       "    <tr>\n",
       "      <th>114</th>\n",
       "      <td>2011-06-22</td>\n",
       "      <td>최태원 SK회장, ‘Green Business’ 직접 챙긴다</td>\n",
       "    </tr>\n",
       "    <tr>\n",
       "      <th>141</th>\n",
       "      <td>2011-07-29</td>\n",
       "      <td>SK이노베이션, 2분기 매출 17조 1,779억원, 영업이익 4,513억원</td>\n",
       "    </tr>\n",
       "  </tbody>\n",
       "</table>\n",
       "</div>"
      ],
      "text/plain": [
       "          dates                                     titles\n",
       "79   2011-04-29       SK이노베이션, 분기사상 최초 수출 11조 돌파하며 매출 수직상승\n",
       "98   2011-05-30         SK이노베이션, 배터리 서산 공장으로 ‘녹색이노베이션’ 나선다\n",
       "102  2011-06-03              SK종합화학, 협력사와 함께하는 동반성장 간담회 열어\n",
       "114  2011-06-22          최태원 SK회장, ‘Green Business’ 직접 챙긴다\n",
       "141  2011-07-29  SK이노베이션, 2분기 매출 17조 1,779억원, 영업이익 4,513억원"
      ]
     },
     "execution_count": 45,
     "metadata": {},
     "output_type": "execute_result"
    }
   ],
   "source": [
    "sk_news.head()"
   ]
  },
  {
   "cell_type": "code",
   "execution_count": 47,
   "metadata": {},
   "outputs": [
    {
     "data": {
      "text/plain": [
       "(460, 2)"
      ]
     },
     "execution_count": 47,
     "metadata": {},
     "output_type": "execute_result"
    }
   ],
   "source": [
    "sk_news.shape"
   ]
  },
  {
   "cell_type": "code",
   "execution_count": 54,
   "metadata": {},
   "outputs": [],
   "source": [
    "sk_price = sk_df.loc[sk_df.end_price.isna() == 0, [\"dates\", \"end_price\", \"start_price\", \"high_price\", \"low_price\", \"amount\"]]"
   ]
  },
  {
   "cell_type": "code",
   "execution_count": 55,
   "metadata": {},
   "outputs": [
    {
     "data": {
      "text/plain": [
       "(2348, 6)"
      ]
     },
     "execution_count": 55,
     "metadata": {},
     "output_type": "execute_result"
    }
   ],
   "source": [
    "sk_price.shape"
   ]
  },
  {
   "cell_type": "code",
   "execution_count": 57,
   "metadata": {},
   "outputs": [
    {
     "data": {
      "text/html": [
       "<div>\n",
       "<style scoped>\n",
       "    .dataframe tbody tr th:only-of-type {\n",
       "        vertical-align: middle;\n",
       "    }\n",
       "\n",
       "    .dataframe tbody tr th {\n",
       "        vertical-align: top;\n",
       "    }\n",
       "\n",
       "    .dataframe thead th {\n",
       "        text-align: right;\n",
       "    }\n",
       "</style>\n",
       "<table border=\"1\" class=\"dataframe\">\n",
       "  <thead>\n",
       "    <tr style=\"text-align: right;\">\n",
       "      <th></th>\n",
       "      <th>dates</th>\n",
       "      <th>end_price</th>\n",
       "      <th>start_price</th>\n",
       "      <th>high_price</th>\n",
       "      <th>low_price</th>\n",
       "      <th>amount</th>\n",
       "    </tr>\n",
       "  </thead>\n",
       "  <tbody>\n",
       "    <tr>\n",
       "      <th>0</th>\n",
       "      <td>2011-01-04</td>\n",
       "      <td>197500.0</td>\n",
       "      <td>194500.0</td>\n",
       "      <td>202000.0</td>\n",
       "      <td>192000.0</td>\n",
       "      <td>707719.0</td>\n",
       "    </tr>\n",
       "    <tr>\n",
       "      <th>1</th>\n",
       "      <td>2011-01-05</td>\n",
       "      <td>190500.0</td>\n",
       "      <td>195500.0</td>\n",
       "      <td>197500.0</td>\n",
       "      <td>189500.0</td>\n",
       "      <td>855655.0</td>\n",
       "    </tr>\n",
       "    <tr>\n",
       "      <th>2</th>\n",
       "      <td>2011-01-06</td>\n",
       "      <td>192500.0</td>\n",
       "      <td>192000.0</td>\n",
       "      <td>194000.0</td>\n",
       "      <td>188500.0</td>\n",
       "      <td>566165.0</td>\n",
       "    </tr>\n",
       "    <tr>\n",
       "      <th>3</th>\n",
       "      <td>2011-01-07</td>\n",
       "      <td>191500.0</td>\n",
       "      <td>190500.0</td>\n",
       "      <td>193000.0</td>\n",
       "      <td>189500.0</td>\n",
       "      <td>371769.0</td>\n",
       "    </tr>\n",
       "    <tr>\n",
       "      <th>4</th>\n",
       "      <td>2011-01-10</td>\n",
       "      <td>186500.0</td>\n",
       "      <td>190000.0</td>\n",
       "      <td>197000.0</td>\n",
       "      <td>184500.0</td>\n",
       "      <td>1125833.0</td>\n",
       "    </tr>\n",
       "  </tbody>\n",
       "</table>\n",
       "</div>"
      ],
      "text/plain": [
       "        dates  end_price  start_price  high_price  low_price     amount\n",
       "0  2011-01-04   197500.0     194500.0    202000.0   192000.0   707719.0\n",
       "1  2011-01-05   190500.0     195500.0    197500.0   189500.0   855655.0\n",
       "2  2011-01-06   192500.0     192000.0    194000.0   188500.0   566165.0\n",
       "3  2011-01-07   191500.0     190500.0    193000.0   189500.0   371769.0\n",
       "4  2011-01-10   186500.0     190000.0    197000.0   184500.0  1125833.0"
      ]
     },
     "execution_count": 57,
     "metadata": {},
     "output_type": "execute_result"
    }
   ],
   "source": [
    "sk_price.head()"
   ]
  },
  {
   "cell_type": "code",
   "execution_count": 60,
   "metadata": {},
   "outputs": [],
   "source": [
    "sk_price[\"dates\"] = pd.to_datetime(sk_price.dates)"
   ]
  },
  {
   "cell_type": "code",
   "execution_count": 61,
   "metadata": {},
   "outputs": [
    {
     "data": {
      "text/plain": [
       "[<matplotlib.lines.Line2D at 0x1b80d47ffd0>]"
      ]
     },
     "execution_count": 61,
     "metadata": {},
     "output_type": "execute_result"
    },
    {
     "data": {
      "image/png": "[encoded data removed]",
      "text/plain": [
       "<Figure size 432x288 with 1 Axes>"
      ]
     },
     "metadata": {},
     "output_type": "display_data"
    }
   ],
   "source": [
    "plt.plot(sk_price.dates, sk_price.end_price)"
   ]
  },
  {
   "cell_type": "code",
   "execution_count": 64,
   "metadata": {},
   "outputs": [],
   "source": [
    "sk_price[\"end_price_diff\"] = sk_price.end_price.diff()"
   ]
  },
  {
   "cell_type": "code",
   "execution_count": 68,
   "metadata": {},
   "outputs": [
    {
     "data": {
      "text/plain": [
       "[<matplotlib.lines.Line2D at 0x1b80c726898>]"
      ]
     },
     "execution_count": 68,
     "metadata": {},
     "output_type": "execute_result"
    },
    {
     "data": {
      "image/png": "[encoded data removed]",
      "text/plain": [
       "<Figure size 432x288 with 1 Axes>"
      ]
     },
     "metadata": {},
     "output_type": "display_data"
    }
   ],
   "source": [
    "plt.plot(sk_price.dates, sk_price.end_price_diff)"
   ]
  },
  {
   "cell_type": "code",
   "execution_count": 69,
   "metadata": {},
   "outputs": [
    {
     "data": {
      "text/html": [
       "<div>\n",
       "<style scoped>\n",
       "    .dataframe tbody tr th:only-of-type {\n",
       "        vertical-align: middle;\n",
       "    }\n",
       "\n",
       "    .dataframe tbody tr th {\n",
       "        vertical-align: top;\n",
       "    }\n",
       "\n",
       "    .dataframe thead th {\n",
       "        text-align: right;\n",
       "    }\n",
       "</style>\n",
       "<table border=\"1\" class=\"dataframe\">\n",
       "  <thead>\n",
       "    <tr style=\"text-align: right;\">\n",
       "      <th></th>\n",
       "      <th>dates</th>\n",
       "      <th>titles</th>\n",
       "    </tr>\n",
       "  </thead>\n",
       "  <tbody>\n",
       "    <tr>\n",
       "      <th>79</th>\n",
       "      <td>2011-04-29</td>\n",
       "      <td>SK이노베이션, 분기사상 최초 수출 11조 돌파하며 매출 수직상승</td>\n",
       "    </tr>\n",
       "    <tr>\n",
       "      <th>98</th>\n",
       "      <td>2011-05-30</td>\n",
       "      <td>SK이노베이션, 배터리 서산 공장으로 ‘녹색이노베이션’ 나선다</td>\n",
       "    </tr>\n",
       "    <tr>\n",
       "      <th>102</th>\n",
       "      <td>2011-06-03</td>\n",
       "      <td>SK종합화학, 협력사와 함께하는 동반성장 간담회 열어</td>\n",
       "    </tr>\n",
       "    <tr>\n",
       "      <th>114</th>\n",
       "      <td>2011-06-22</td>\n",
       "      <td>최태원 SK회장, ‘Green Business’ 직접 챙긴다</td>\n",
       "    </tr>\n",
       "    <tr>\n",
       "      <th>141</th>\n",
       "      <td>2011-07-29</td>\n",
       "      <td>SK이노베이션, 2분기 매출 17조 1,779억원, 영업이익 4,513억원</td>\n",
       "    </tr>\n",
       "  </tbody>\n",
       "</table>\n",
       "</div>"
      ],
      "text/plain": [
       "          dates                                     titles\n",
       "79   2011-04-29       SK이노베이션, 분기사상 최초 수출 11조 돌파하며 매출 수직상승\n",
       "98   2011-05-30         SK이노베이션, 배터리 서산 공장으로 ‘녹색이노베이션’ 나선다\n",
       "102  2011-06-03              SK종합화학, 협력사와 함께하는 동반성장 간담회 열어\n",
       "114  2011-06-22          최태원 SK회장, ‘Green Business’ 직접 챙긴다\n",
       "141  2011-07-29  SK이노베이션, 2분기 매출 17조 1,779억원, 영업이익 4,513억원"
      ]
     },
     "execution_count": 69,
     "metadata": {},
     "output_type": "execute_result"
    }
   ],
   "source": [
    "sk_news.head()"
   ]
  },
  {
   "cell_type": "code",
   "execution_count": 74,
   "metadata": {},
   "outputs": [],
   "source": [
    "hankyung_df.dates = pd.to_datetime(hankyung_df.dates)"
   ]
  },
  {
   "cell_type": "code",
   "execution_count": 75,
   "metadata": {},
   "outputs": [
    {
     "data": {
      "text/html": [
       "<div>\n",
       "<style scoped>\n",
       "    .dataframe tbody tr th:only-of-type {\n",
       "        vertical-align: middle;\n",
       "    }\n",
       "\n",
       "    .dataframe tbody tr th {\n",
       "        vertical-align: top;\n",
       "    }\n",
       "\n",
       "    .dataframe thead th {\n",
       "        text-align: right;\n",
       "    }\n",
       "</style>\n",
       "<table border=\"1\" class=\"dataframe\">\n",
       "  <thead>\n",
       "    <tr style=\"text-align: right;\">\n",
       "      <th></th>\n",
       "      <th>dates</th>\n",
       "      <th>titles</th>\n",
       "      <th>paragraphs</th>\n",
       "    </tr>\n",
       "  </thead>\n",
       "  <tbody>\n",
       "    <tr>\n",
       "      <th>0</th>\n",
       "      <td>2020-06-05</td>\n",
       "      <td>삼성 온라인채용 확산…SKT \"\"화상면접\"\" LG \"\"필기시험 추진\"\"</td>\n",
       "      <td>‘화상회의 솔루션’에 대해서도 깊은 관심을 드러내고 있다.  지난달 입사시험을 치르...</td>\n",
       "    </tr>\n",
       "    <tr>\n",
       "      <th>1</th>\n",
       "      <td>2020-06-04</td>\n",
       "      <td>SK, 아시아 최대 저가항공 에어아시아에 1000억 투자 검토</td>\n",
       "      <td>SK그룹이 아시아 최대 저비용항공사 에어아시아에 약 1000억원을 투자하는 방안을 ...</td>\n",
       "    </tr>\n",
       "    <tr>\n",
       "      <th>2</th>\n",
       "      <td>2020-06-04</td>\n",
       "      <td>마스크 수출 허용에 관련주 '들썩'...수익 제대로 높이려면</td>\n",
       "      <td>새로운 상품에 대해 자세히 알고 싶은 투자자는 고객상담센터  * 증권사 미수/신용 ...</td>\n",
       "    </tr>\n",
       "    <tr>\n",
       "      <th>3</th>\n",
       "      <td>2020-06-04</td>\n",
       "      <td>TV에서 보던 진짜 주식전문가를 '무료카톡방'에서 만날 수 있다.</td>\n",
       "      <td>주목된다.     최근 핫이슈 종목  삼성중공업, 셀트리온제약, 카카오, SK하이닉...</td>\n",
       "    </tr>\n",
       "    <tr>\n",
       "      <th>4</th>\n",
       "      <td>2020-06-04</td>\n",
       "      <td>\"\"전기차 배터리 대란 우려에…\"\" 글로벌 '합작 열풍' 분다</td>\n",
       "      <td>지리차와의 공장은 부지 선정 단계다.  업계에 따르면 현대차도 글로벌 추세에 발맞춰...</td>\n",
       "    </tr>\n",
       "  </tbody>\n",
       "</table>\n",
       "</div>"
      ],
      "text/plain": [
       "       dates                                   titles  \\\n",
       "0 2020-06-05  삼성 온라인채용 확산…SKT \"\"화상면접\"\" LG \"\"필기시험 추진\"\"   \n",
       "1 2020-06-04       SK, 아시아 최대 저가항공 에어아시아에 1000억 투자 검토   \n",
       "2 2020-06-04        마스크 수출 허용에 관련주 '들썩'...수익 제대로 높이려면   \n",
       "3 2020-06-04     TV에서 보던 진짜 주식전문가를 '무료카톡방'에서 만날 수 있다.   \n",
       "4 2020-06-04       \"\"전기차 배터리 대란 우려에…\"\" 글로벌 '합작 열풍' 분다   \n",
       "\n",
       "                                          paragraphs  \n",
       "0  ‘화상회의 솔루션’에 대해서도 깊은 관심을 드러내고 있다.  지난달 입사시험을 치르...  \n",
       "1  SK그룹이 아시아 최대 저비용항공사 에어아시아에 약 1000억원을 투자하는 방안을 ...  \n",
       "2  새로운 상품에 대해 자세히 알고 싶은 투자자는 고객상담센터  * 증권사 미수/신용 ...  \n",
       "3  주목된다.     최근 핫이슈 종목  삼성중공업, 셀트리온제약, 카카오, SK하이닉...  \n",
       "4  지리차와의 공장은 부지 선정 단계다.  업계에 따르면 현대차도 글로벌 추세에 발맞춰...  "
      ]
     },
     "execution_count": 75,
     "metadata": {},
     "output_type": "execute_result"
    }
   ],
   "source": [
    "hankyung_df.head()"
   ]
  },
  {
   "cell_type": "code",
   "execution_count": 81,
   "metadata": {},
   "outputs": [
    {
     "data": {
      "text/html": [
       "<div>\n",
       "<style scoped>\n",
       "    .dataframe tbody tr th:only-of-type {\n",
       "        vertical-align: middle;\n",
       "    }\n",
       "\n",
       "    .dataframe tbody tr th {\n",
       "        vertical-align: top;\n",
       "    }\n",
       "\n",
       "    .dataframe thead th {\n",
       "        text-align: right;\n",
       "    }\n",
       "</style>\n",
       "<table border=\"1\" class=\"dataframe\">\n",
       "  <thead>\n",
       "    <tr style=\"text-align: right;\">\n",
       "      <th></th>\n",
       "      <th>dates</th>\n",
       "      <th>end_price</th>\n",
       "      <th>start_price</th>\n",
       "      <th>high_price</th>\n",
       "      <th>low_price</th>\n",
       "      <th>amount</th>\n",
       "      <th>end_price_diff</th>\n",
       "    </tr>\n",
       "  </thead>\n",
       "  <tbody>\n",
       "    <tr>\n",
       "      <th>0</th>\n",
       "      <td>2011-01-04</td>\n",
       "      <td>197500.0</td>\n",
       "      <td>194500.0</td>\n",
       "      <td>202000.0</td>\n",
       "      <td>192000.0</td>\n",
       "      <td>707719.0</td>\n",
       "      <td>NaN</td>\n",
       "    </tr>\n",
       "    <tr>\n",
       "      <th>1</th>\n",
       "      <td>2011-01-05</td>\n",
       "      <td>190500.0</td>\n",
       "      <td>195500.0</td>\n",
       "      <td>197500.0</td>\n",
       "      <td>189500.0</td>\n",
       "      <td>855655.0</td>\n",
       "      <td>-7000.0</td>\n",
       "    </tr>\n",
       "    <tr>\n",
       "      <th>2</th>\n",
       "      <td>2011-01-06</td>\n",
       "      <td>192500.0</td>\n",
       "      <td>192000.0</td>\n",
       "      <td>194000.0</td>\n",
       "      <td>188500.0</td>\n",
       "      <td>566165.0</td>\n",
       "      <td>2000.0</td>\n",
       "    </tr>\n",
       "    <tr>\n",
       "      <th>3</th>\n",
       "      <td>2011-01-07</td>\n",
       "      <td>191500.0</td>\n",
       "      <td>190500.0</td>\n",
       "      <td>193000.0</td>\n",
       "      <td>189500.0</td>\n",
       "      <td>371769.0</td>\n",
       "      <td>-1000.0</td>\n",
       "    </tr>\n",
       "    <tr>\n",
       "      <th>4</th>\n",
       "      <td>2011-01-10</td>\n",
       "      <td>186500.0</td>\n",
       "      <td>190000.0</td>\n",
       "      <td>197000.0</td>\n",
       "      <td>184500.0</td>\n",
       "      <td>1125833.0</td>\n",
       "      <td>-5000.0</td>\n",
       "    </tr>\n",
       "  </tbody>\n",
       "</table>\n",
       "</div>"
      ],
      "text/plain": [
       "       dates  end_price  start_price  high_price  low_price     amount  \\\n",
       "0 2011-01-04   197500.0     194500.0    202000.0   192000.0   707719.0   \n",
       "1 2011-01-05   190500.0     195500.0    197500.0   189500.0   855655.0   \n",
       "2 2011-01-06   192500.0     192000.0    194000.0   188500.0   566165.0   \n",
       "3 2011-01-07   191500.0     190500.0    193000.0   189500.0   371769.0   \n",
       "4 2011-01-10   186500.0     190000.0    197000.0   184500.0  1125833.0   \n",
       "\n",
       "   end_price_diff  \n",
       "0             NaN  \n",
       "1         -7000.0  \n",
       "2          2000.0  \n",
       "3         -1000.0  \n",
       "4         -5000.0  "
      ]
     },
     "execution_count": 81,
     "metadata": {},
     "output_type": "execute_result"
    }
   ],
   "source": [
    "sk_price.head()"
   ]
  },
  {
   "cell_type": "code",
   "execution_count": 83,
   "metadata": {},
   "outputs": [
    {
     "data": {
      "text/plain": [
       "(4570, 3)"
      ]
     },
     "execution_count": 83,
     "metadata": {},
     "output_type": "execute_result"
    }
   ],
   "source": [
    "hankyung_df.shape"
   ]
  },
  {
   "cell_type": "code",
   "execution_count": 97,
   "metadata": {},
   "outputs": [
    {
     "data": {
      "text/plain": [
       "dates     datetime64[ns]\n",
       "titles            object\n",
       "dtype: object"
      ]
     },
     "execution_count": 97,
     "metadata": {},
     "output_type": "execute_result"
    }
   ],
   "source": [
    "hankyung_df.iloc[:, 0:2]"
   ]
  },
  {
   "cell_type": "code",
   "execution_count": 124,
   "metadata": {
    "scrolled": false
   },
   "outputs": [],
   "source": [
    "hankyung_news = hankyung_df.iloc[:, 0:2].groupby(\"dates\")[\"titles\"].apply(lambda x: ', '.join(str(v) for v in x)).to_frame().reset_index()"
   ]
  },
  {
   "cell_type": "code",
   "execution_count": 125,
   "metadata": {},
   "outputs": [
    {
     "data": {
      "text/plain": [
       "(1820, 2)"
      ]
     },
     "execution_count": 125,
     "metadata": {},
     "output_type": "execute_result"
    }
   ],
   "source": [
    "hankyung_news.shape"
   ]
  },
  {
   "cell_type": "code",
   "execution_count": 126,
   "metadata": {},
   "outputs": [
    {
     "data": {
      "text/html": [
       "<div>\n",
       "<style scoped>\n",
       "    .dataframe tbody tr th:only-of-type {\n",
       "        vertical-align: middle;\n",
       "    }\n",
       "\n",
       "    .dataframe tbody tr th {\n",
       "        vertical-align: top;\n",
       "    }\n",
       "\n",
       "    .dataframe thead th {\n",
       "        text-align: right;\n",
       "    }\n",
       "</style>\n",
       "<table border=\"1\" class=\"dataframe\">\n",
       "  <thead>\n",
       "    <tr style=\"text-align: right;\">\n",
       "      <th></th>\n",
       "      <th>dates</th>\n",
       "      <th>titles</th>\n",
       "    </tr>\n",
       "  </thead>\n",
       "  <tbody>\n",
       "    <tr>\n",
       "      <th>0</th>\n",
       "      <td>2011-11-01</td>\n",
       "      <td>11월엔 덜 오르고 소외된 대형 '매수'-IBK, 외국인 '외도' 끝?…공매도 커버...</td>\n",
       "    </tr>\n",
       "    <tr>\n",
       "      <th>1</th>\n",
       "      <td>2011-11-02</td>\n",
       "      <td>우리투자, 3일까지 최대 43% 수익 ELS 7종 판매, KB투자증권, ELW 6종...</td>\n",
       "    </tr>\n",
       "    <tr>\n",
       "      <th>2</th>\n",
       "      <td>2011-11-03</td>\n",
       "      <td>신한금융투자,내년 코스피 1700-2200 전망</td>\n",
       "    </tr>\n",
       "    <tr>\n",
       "      <th>3</th>\n",
       "      <td>2011-11-04</td>\n",
       "      <td>코스피 사흘 만에 반등…1920선</td>\n",
       "    </tr>\n",
       "    <tr>\n",
       "      <th>4</th>\n",
       "      <td>2011-11-07</td>\n",
       "      <td>\"\"안도랠리 후반부…선택과 집중 전략\"\"-현대, 안도랠리 즐기려면?…중소형·실적개선...</td>\n",
       "    </tr>\n",
       "  </tbody>\n",
       "</table>\n",
       "</div>"
      ],
      "text/plain": [
       "       dates                                             titles\n",
       "0 2011-11-01  11월엔 덜 오르고 소외된 대형 '매수'-IBK, 외국인 '외도' 끝?…공매도 커버...\n",
       "1 2011-11-02  우리투자, 3일까지 최대 43% 수익 ELS 7종 판매, KB투자증권, ELW 6종...\n",
       "2 2011-11-03                         신한금융투자,내년 코스피 1700-2200 전망\n",
       "3 2011-11-04                                 코스피 사흘 만에 반등…1920선\n",
       "4 2011-11-07  \"\"안도랠리 후반부…선택과 집중 전략\"\"-현대, 안도랠리 즐기려면?…중소형·실적개선..."
      ]
     },
     "execution_count": 126,
     "metadata": {},
     "output_type": "execute_result"
    }
   ],
   "source": [
    "hankyung_news.head()"
   ]
  },
  {
   "cell_type": "code",
   "execution_count": 127,
   "metadata": {},
   "outputs": [
    {
     "data": {
      "text/plain": [
       "(2348, 7)"
      ]
     },
     "execution_count": 127,
     "metadata": {},
     "output_type": "execute_result"
    }
   ],
   "source": [
    "sk_price.shape"
   ]
  },
  {
   "cell_type": "code",
   "execution_count": 132,
   "metadata": {},
   "outputs": [
    {
     "data": {
      "text/html": [
       "<div>\n",
       "<style scoped>\n",
       "    .dataframe tbody tr th:only-of-type {\n",
       "        vertical-align: middle;\n",
       "    }\n",
       "\n",
       "    .dataframe tbody tr th {\n",
       "        vertical-align: top;\n",
       "    }\n",
       "\n",
       "    .dataframe thead th {\n",
       "        text-align: right;\n",
       "    }\n",
       "</style>\n",
       "<table border=\"1\" class=\"dataframe\">\n",
       "  <thead>\n",
       "    <tr style=\"text-align: right;\">\n",
       "      <th></th>\n",
       "      <th>dates</th>\n",
       "      <th>end_price</th>\n",
       "      <th>start_price</th>\n",
       "      <th>high_price</th>\n",
       "      <th>low_price</th>\n",
       "      <th>amount</th>\n",
       "      <th>end_price_diff</th>\n",
       "    </tr>\n",
       "  </thead>\n",
       "  <tbody>\n",
       "    <tr>\n",
       "      <th>206</th>\n",
       "      <td>2011-11-01</td>\n",
       "      <td>167000.0</td>\n",
       "      <td>168000.0</td>\n",
       "      <td>171500.0</td>\n",
       "      <td>166000.0</td>\n",
       "      <td>569658.0</td>\n",
       "      <td>-3500.0</td>\n",
       "    </tr>\n",
       "  </tbody>\n",
       "</table>\n",
       "</div>"
      ],
      "text/plain": [
       "         dates  end_price  start_price  high_price  low_price    amount  \\\n",
       "206 2011-11-01   167000.0     168000.0    171500.0   166000.0  569658.0   \n",
       "\n",
       "     end_price_diff  \n",
       "206         -3500.0  "
      ]
     },
     "execution_count": 132,
     "metadata": {},
     "output_type": "execute_result"
    }
   ],
   "source": [
    "sk_price.loc[sk_price.dates == \"2011-11-01\", :]"
   ]
  },
  {
   "cell_type": "code",
   "execution_count": 176,
   "metadata": {},
   "outputs": [
    {
     "data": {
      "text/plain": [
       "(2348, 7)"
      ]
     },
     "execution_count": 176,
     "metadata": {},
     "output_type": "execute_result"
    }
   ],
   "source": [
    "sk_price.shape"
   ]
  },
  {
   "cell_type": "code",
   "execution_count": 177,
   "metadata": {},
   "outputs": [],
   "source": [
    "sk_price = sk_price.drop_duplicates(subset=\"dates\")"
   ]
  },
  {
   "cell_type": "code",
   "execution_count": 156,
   "metadata": {
    "scrolled": false
   },
   "outputs": [
    {
     "data": {
      "text/plain": [
       "True"
      ]
     },
     "execution_count": 156,
     "metadata": {},
     "output_type": "execute_result"
    }
   ],
   "source": [
    "hankyung_news.set_index(\"dates\").index.is_unique"
   ]
  },
  {
   "cell_type": "code",
   "execution_count": 179,
   "metadata": {},
   "outputs": [],
   "source": [
    "sk_price_filtered1 = sk_price.loc[206:, :].reset_index(drop=True).set_index(\"dates\")"
   ]
  },
  {
   "cell_type": "code",
   "execution_count": 183,
   "metadata": {},
   "outputs": [],
   "source": [
    "df = pd.concat([hankyung_news.set_index(\"dates\"), sk_price_filtered1], axis=1)"
   ]
  },
  {
   "cell_type": "code",
   "execution_count": 184,
   "metadata": {},
   "outputs": [
    {
     "data": {
      "text/plain": [
       "(2450, 7)"
      ]
     },
     "execution_count": 184,
     "metadata": {},
     "output_type": "execute_result"
    }
   ],
   "source": [
    "df.shape"
   ]
  },
  {
   "cell_type": "code",
   "execution_count": 189,
   "metadata": {},
   "outputs": [
    {
     "data": {
      "text/html": [
       "<div>\n",
       "<style scoped>\n",
       "    .dataframe tbody tr th:only-of-type {\n",
       "        vertical-align: middle;\n",
       "    }\n",
       "\n",
       "    .dataframe tbody tr th {\n",
       "        vertical-align: top;\n",
       "    }\n",
       "\n",
       "    .dataframe thead th {\n",
       "        text-align: right;\n",
       "    }\n",
       "</style>\n",
       "<table border=\"1\" class=\"dataframe\">\n",
       "  <thead>\n",
       "    <tr style=\"text-align: right;\">\n",
       "      <th></th>\n",
       "      <th>titles</th>\n",
       "      <th>end_price</th>\n",
       "      <th>start_price</th>\n",
       "      <th>high_price</th>\n",
       "      <th>low_price</th>\n",
       "      <th>amount</th>\n",
       "      <th>end_price_diff</th>\n",
       "    </tr>\n",
       "    <tr>\n",
       "      <th>dates</th>\n",
       "      <th></th>\n",
       "      <th></th>\n",
       "      <th></th>\n",
       "      <th></th>\n",
       "      <th></th>\n",
       "      <th></th>\n",
       "      <th></th>\n",
       "    </tr>\n",
       "  </thead>\n",
       "  <tbody>\n",
       "    <tr>\n",
       "      <th>2011-11-01</th>\n",
       "      <td>11월엔 덜 오르고 소외된 대형 '매수'-IBK, 외국인 '외도' 끝?…공매도 커버...</td>\n",
       "      <td>167000.0</td>\n",
       "      <td>168000.0</td>\n",
       "      <td>171500.0</td>\n",
       "      <td>166000.0</td>\n",
       "      <td>569658.0</td>\n",
       "      <td>-3500.0</td>\n",
       "    </tr>\n",
       "    <tr>\n",
       "      <th>2011-11-02</th>\n",
       "      <td>우리투자, 3일까지 최대 43% 수익 ELS 7종 판매, KB투자증권, ELW 6종...</td>\n",
       "      <td>166500.0</td>\n",
       "      <td>161000.0</td>\n",
       "      <td>167000.0</td>\n",
       "      <td>158000.0</td>\n",
       "      <td>1046939.0</td>\n",
       "      <td>-500.0</td>\n",
       "    </tr>\n",
       "    <tr>\n",
       "      <th>2011-11-03</th>\n",
       "      <td>신한금융투자,내년 코스피 1700-2200 전망</td>\n",
       "      <td>161500.0</td>\n",
       "      <td>167000.0</td>\n",
       "      <td>167500.0</td>\n",
       "      <td>159500.0</td>\n",
       "      <td>504255.0</td>\n",
       "      <td>-5000.0</td>\n",
       "    </tr>\n",
       "    <tr>\n",
       "      <th>2011-11-04</th>\n",
       "      <td>코스피 사흘 만에 반등…1920선</td>\n",
       "      <td>174500.0</td>\n",
       "      <td>167500.0</td>\n",
       "      <td>175500.0</td>\n",
       "      <td>167000.0</td>\n",
       "      <td>920652.0</td>\n",
       "      <td>13000.0</td>\n",
       "    </tr>\n",
       "    <tr>\n",
       "      <th>2011-11-07</th>\n",
       "      <td>\"\"안도랠리 후반부…선택과 집중 전략\"\"-현대, 안도랠리 즐기려면?…중소형·실적개선...</td>\n",
       "      <td>172500.0</td>\n",
       "      <td>175500.0</td>\n",
       "      <td>177000.0</td>\n",
       "      <td>171500.0</td>\n",
       "      <td>404488.0</td>\n",
       "      <td>-2000.0</td>\n",
       "    </tr>\n",
       "  </tbody>\n",
       "</table>\n",
       "</div>"
      ],
      "text/plain": [
       "                                                       titles  end_price  \\\n",
       "dates                                                                      \n",
       "2011-11-01  11월엔 덜 오르고 소외된 대형 '매수'-IBK, 외국인 '외도' 끝?…공매도 커버...   167000.0   \n",
       "2011-11-02  우리투자, 3일까지 최대 43% 수익 ELS 7종 판매, KB투자증권, ELW 6종...   166500.0   \n",
       "2011-11-03                         신한금융투자,내년 코스피 1700-2200 전망   161500.0   \n",
       "2011-11-04                                 코스피 사흘 만에 반등…1920선   174500.0   \n",
       "2011-11-07  \"\"안도랠리 후반부…선택과 집중 전략\"\"-현대, 안도랠리 즐기려면?…중소형·실적개선...   172500.0   \n",
       "\n",
       "            start_price  high_price  low_price     amount  end_price_diff  \n",
       "dates                                                                      \n",
       "2011-11-01     168000.0    171500.0   166000.0   569658.0         -3500.0  \n",
       "2011-11-02     161000.0    167000.0   158000.0  1046939.0          -500.0  \n",
       "2011-11-03     167000.0    167500.0   159500.0   504255.0         -5000.0  \n",
       "2011-11-04     167500.0    175500.0   167000.0   920652.0         13000.0  \n",
       "2011-11-07     175500.0    177000.0   171500.0   404488.0         -2000.0  "
      ]
     },
     "execution_count": 189,
     "metadata": {},
     "output_type": "execute_result"
    }
   ],
   "source": [
    "df.head()"
   ]
  },
  {
   "cell_type": "code",
   "execution_count": 190,
   "metadata": {},
   "outputs": [],
   "source": [
    "def convert_to_binary(num):\n",
    "    if num < 0:\n",
    "        return 0\n",
    "    else:\n",
    "        return 1"
   ]
  },
  {
   "cell_type": "code",
   "execution_count": 194,
   "metadata": {},
   "outputs": [],
   "source": [
    "df[\"labels\"] = df.end_price_diff.apply(convert_to_binary)"
   ]
  },
  {
   "cell_type": "code",
   "execution_count": 201,
   "metadata": {},
   "outputs": [],
   "source": [
    "data_df = df.loc[:, [\"titles\", \"labels\"]]"
   ]
  },
  {
   "cell_type": "code",
   "execution_count": 204,
   "metadata": {},
   "outputs": [],
   "source": [
    "data_df.reset_index(inplace=True)"
   ]
  },
  {
   "cell_type": "code",
   "execution_count": 325,
   "metadata": {},
   "outputs": [],
   "source": [
    "tokenizer = Tokenizer(oov_token=1)"
   ]
  },
  {
   "cell_type": "code",
   "execution_count": 326,
   "metadata": {},
   "outputs": [],
   "source": [
    "def tokenization(texts):\n",
    "    tokenizer.fit_on_texts(texts)\n",
    "    token_list = tokenizer.texts_to_sequences(texts)\n",
    "    total_words = len(tokenizer.word_index) + 1\n",
    "    return token_list, total_words"
   ]
  },
  {
   "cell_type": "code",
   "execution_count": 327,
   "metadata": {},
   "outputs": [],
   "source": [
    "data_df.dropna(inplace = True)"
   ]
  },
  {
   "cell_type": "code",
   "execution_count": 328,
   "metadata": {},
   "outputs": [],
   "source": [
    "corpus, total_words = tokenization(data_df.titles)"
   ]
  },
  {
   "cell_type": "code",
   "execution_count": 329,
   "metadata": {},
   "outputs": [],
   "source": [
    "maxlen = max(len(x) for x in corpus)"
   ]
  },
  {
   "cell_type": "code",
   "execution_count": 330,
   "metadata": {},
   "outputs": [],
   "source": [
    "def get_padded_sequences(corpus, maxlen):\n",
    "    padded_corpus = pad_sequences(corpus, maxlen=maxlen + 1, padding=\"pre\")\n",
    "    return padded_corpus"
   ]
  },
  {
   "cell_type": "code",
   "execution_count": 331,
   "metadata": {},
   "outputs": [],
   "source": [
    "padded_corpus = get_padded_sequences(corpus, maxlen)"
   ]
  },
  {
   "cell_type": "code",
   "execution_count": 345,
   "metadata": {},
   "outputs": [],
   "source": [
    "model = Sequential()\n",
    "model.add(Embedding(total_words, 10, input_length=maxlen + 1))\n",
    "model.add(Bidirectional(LSTM(50, activation=\"tanh\", return_sequences=True)))\n",
    "model.add(BatchNormalization())\n",
    "model.add(Bidirectional(LSTM(50, activation=\"tanh\", return_sequences=True)))\n",
    "model.add(BatchNormalization())\n",
    "model.add(Bidirectional(LSTM(50, activation=\"tanh\")))\n",
    "model.add(BatchNormalization())\n",
    "model.add(Dense(100, activation=\"relu\"))\n",
    "model.add(Dropout(0.25))\n",
    "model.add(Dense(1, activation=\"softmax\"))"
   ]
  },
  {
   "cell_type": "code",
   "execution_count": 346,
   "metadata": {},
   "outputs": [],
   "source": [
    "model.compile(optimizer=Adam(learning_rate=0.1), loss=\"binary_crossentropy\", metrics=[\"accuracy\"])"
   ]
  },
  {
   "cell_type": "code",
   "execution_count": 343,
   "metadata": {},
   "outputs": [],
   "source": [
    "labels = np.array(data_df.labels)"
   ]
  },
  {
   "cell_type": "code",
   "execution_count": 398,
   "metadata": {
    "scrolled": true
   },
   "outputs": [
    {
     "name": "stdout",
     "output_type": "stream",
     "text": [
      "Train on 1820 samples\n",
      "Epoch 1/10\n",
      "1820/1820 [==============================] - 20s 11ms/sample - loss: 11.6937 - accuracy: 0.6187\n",
      "Epoch 2/10\n",
      "1820/1820 [==============================] - 14s 8ms/sample - loss: 11.6937 - accuracy: 0.6187\n",
      "Epoch 3/10\n",
      "1820/1820 [==============================] - 14s 8ms/sample - loss: 11.6937 - accuracy: 0.6187\n",
      "Epoch 4/10\n",
      "1820/1820 [==============================] - 14s 8ms/sample - loss: 11.6937 - accuracy: 0.6187\n",
      "Epoch 5/10\n",
      "1820/1820 [==============================] - 14s 8ms/sample - loss: 11.6937 - accuracy: 0.6187\n",
      "Epoch 6/10\n",
      "1820/1820 [==============================] - 14s 8ms/sample - loss: 11.6937 - accuracy: 0.6187\n",
      "Epoch 7/10\n",
      "1820/1820 [==============================] - 14s 8ms/sample - loss: 11.6937 - accuracy: 0.6187\n",
      "Epoch 8/10\n",
      "1820/1820 [==============================] - 14s 8ms/sample - loss: 11.6937 - accuracy: 0.6187\n",
      "Epoch 9/10\n",
      "1820/1820 [==============================] - 14s 8ms/sample - loss: 11.6937 - accuracy: 0.6187\n",
      "Epoch 10/10\n",
      "1820/1820 [==============================] - 14s 8ms/sample - loss: 11.6937 - accuracy: 0.6187\n"
     ]
    }
   ],
   "source": [
    "hist = model.fit(padded_corpus, labels, epochs=10,\n",
    "                class_weight={0:2, 1:1})"
   ]
  },
  {
   "cell_type": "code",
   "execution_count": 405,
   "metadata": {},
   "outputs": [],
   "source": [
    "sequence = tokenizer.texts_to_sequences(\"한기평, SK이노베이션 신용등급전망 '안정적→부정적' 하향\")"
   ]
  },
  {
   "cell_type": "code",
   "execution_count": 409,
   "metadata": {
    "scrolled": true
   },
   "outputs": [],
   "source": [
    "flattened_sequence = []"
   ]
  },
  {
   "cell_type": "code",
   "execution_count": 410,
   "metadata": {},
   "outputs": [],
   "source": [
    "for x in sequence:\n",
    "    for y in x:\n",
    "        flattened_sequence.append(y)"
   ]
  },
  {
   "cell_type": "code",
   "execution_count": 411,
   "metadata": {},
   "outputs": [],
   "source": [
    "flattened_sequence = [flattened_sequence]"
   ]
  },
  {
   "cell_type": "code",
   "execution_count": 412,
   "metadata": {},
   "outputs": [],
   "source": [
    "padded_sequence = pad_sequences(flattened_sequence, maxlen=128, padding=\"pre\")"
   ]
  },
  {
   "cell_type": "code",
   "execution_count": 413,
   "metadata": {},
   "outputs": [
    {
     "data": {
      "text/plain": [
       "array([[1.]], dtype=float32)"
      ]
     },
     "execution_count": 413,
     "metadata": {},
     "output_type": "execute_result"
    }
   ],
   "source": [
    "model.predict(padded_sequence)"
   ]
  }
 ],
 "metadata": {
  "kernelspec": {
   "display_name": "Python 3",
   "language": "python",
   "name": "python3"
  },
  "language_info": {
   "codemirror_mode": {
    "name": "ipython",
    "version": 3
   },
   "file_extension": ".py",
   "mimetype": "text/x-python",
   "name": "python",
   "nbconvert_exporter": "python",
   "pygments_lexer": "ipython3",
   "version": "3.7.3"
  }
 },
 "nbformat": 4,
 "nbformat_minor": 2
}
